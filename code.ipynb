{
 "cells": [
  {
   "cell_type": "markdown",
   "metadata": {},
   "source": [
    "# Kto wygra finał mistrzostw świata w piłce nożnej 2018?"
   ]
  },
  {
   "cell_type": "markdown",
   "metadata": {},
   "source": [
    "### Cel projektu:\n",
    "\n",
    "* Głównym celem projektu jest dziś wyjątkowo klarowny i prosty: predykcja zwycięzcy finału MŚ."
   ]
  },
  {
   "cell_type": "markdown",
   "metadata": {},
   "source": [
    "### Założenia:\n",
    "\n",
    "* Algorytm: nie stawiam żadnych ograniczeń co do wyboru algorytmu. Liczy się skuteczność i przetestuję kilka najbardziej wysublimowanych rozwiązań.\n",
    "* Zmienne objaśniające: skupię się na zmiennych pochodzących z dwóch źródeł (historyczne wyniki meczy i aktualizacje rankingu FIFA).\n",
    "* Jakość modelu: będzie mierzona za pomocą *Accuracy*."
   ]
  },
  {
   "cell_type": "markdown",
   "metadata": {},
   "source": [
    "### Zbiory danych:\n",
    "* [Ranking FIFA.](https://www.kaggle.com/agostontorok/soccer-world-cup-2018-winner/data)\n",
    "* [Wyniki spotkań.](https://www.kaggle.com/agostontorok/soccer-world-cup-2018-winner/data)"
   ]
  },
  {
   "cell_type": "markdown",
   "metadata": {},
   "source": [
    "## 1. Wczytanie niezbędnych bibliotek."
   ]
  },
  {
   "cell_type": "code",
   "execution_count": 1,
   "metadata": {},
   "outputs": [],
   "source": [
    "import pandas as pd\n",
    "import numpy as np\n",
    "import xgboost\n",
    "from sklearn.preprocessing import LabelEncoder\n",
    "from sklearn.model_selection import train_test_split, cross_val_score, RandomizedSearchCV\n",
    "from sklearn.ensemble import GradientBoostingClassifier\n",
    "from sklearn.metrics import accuracy_score, roc_curve, auc\n",
    "from scipy.stats import randint\n",
    "import warnings"
   ]
  },
  {
   "cell_type": "code",
   "execution_count": 2,
   "metadata": {},
   "outputs": [],
   "source": [
    "pd.set_option('display.max_columns', 50)"
   ]
  },
  {
   "cell_type": "code",
   "execution_count": 3,
   "metadata": {},
   "outputs": [],
   "source": [
    "warnings.filterwarnings(module='sklearn*', action='ignore', category=DeprecationWarning)"
   ]
  },
  {
   "cell_type": "markdown",
   "metadata": {},
   "source": [
    "## 2. Wczytanie danych."
   ]
  },
  {
   "cell_type": "markdown",
   "metadata": {},
   "source": [
    "### 2.1. Wczytanie zbioru wyników spotkań."
   ]
  },
  {
   "cell_type": "code",
   "execution_count": 4,
   "metadata": {},
   "outputs": [],
   "source": [
    "matches = pd.read_csv('data//long/matches.csv')"
   ]
  },
  {
   "cell_type": "markdown",
   "metadata": {},
   "source": [
    "Podgląd zbioru."
   ]
  },
  {
   "cell_type": "code",
   "execution_count": 5,
   "metadata": {},
   "outputs": [
    {
     "data": {
      "text/html": [
       "<div>\n",
       "<style scoped>\n",
       "    .dataframe tbody tr th:only-of-type {\n",
       "        vertical-align: middle;\n",
       "    }\n",
       "\n",
       "    .dataframe tbody tr th {\n",
       "        vertical-align: top;\n",
       "    }\n",
       "\n",
       "    .dataframe thead th {\n",
       "        text-align: right;\n",
       "    }\n",
       "</style>\n",
       "<table border=\"1\" class=\"dataframe\">\n",
       "  <thead>\n",
       "    <tr style=\"text-align: right;\">\n",
       "      <th></th>\n",
       "      <th>date</th>\n",
       "      <th>home_team</th>\n",
       "      <th>away_team</th>\n",
       "      <th>home_score</th>\n",
       "      <th>away_score</th>\n",
       "      <th>tournament</th>\n",
       "      <th>city</th>\n",
       "      <th>country</th>\n",
       "      <th>neutral</th>\n",
       "    </tr>\n",
       "  </thead>\n",
       "  <tbody>\n",
       "    <tr>\n",
       "      <th>0</th>\n",
       "      <td>1872-11-30</td>\n",
       "      <td>Scotland</td>\n",
       "      <td>England</td>\n",
       "      <td>0</td>\n",
       "      <td>0</td>\n",
       "      <td>Friendly</td>\n",
       "      <td>Glasgow</td>\n",
       "      <td>Scotland</td>\n",
       "      <td>False</td>\n",
       "    </tr>\n",
       "    <tr>\n",
       "      <th>1</th>\n",
       "      <td>1873-03-08</td>\n",
       "      <td>England</td>\n",
       "      <td>Scotland</td>\n",
       "      <td>4</td>\n",
       "      <td>2</td>\n",
       "      <td>Friendly</td>\n",
       "      <td>London</td>\n",
       "      <td>England</td>\n",
       "      <td>False</td>\n",
       "    </tr>\n",
       "    <tr>\n",
       "      <th>2</th>\n",
       "      <td>1874-03-07</td>\n",
       "      <td>Scotland</td>\n",
       "      <td>England</td>\n",
       "      <td>2</td>\n",
       "      <td>1</td>\n",
       "      <td>Friendly</td>\n",
       "      <td>Glasgow</td>\n",
       "      <td>Scotland</td>\n",
       "      <td>False</td>\n",
       "    </tr>\n",
       "    <tr>\n",
       "      <th>3</th>\n",
       "      <td>1875-03-06</td>\n",
       "      <td>England</td>\n",
       "      <td>Scotland</td>\n",
       "      <td>2</td>\n",
       "      <td>2</td>\n",
       "      <td>Friendly</td>\n",
       "      <td>London</td>\n",
       "      <td>England</td>\n",
       "      <td>False</td>\n",
       "    </tr>\n",
       "    <tr>\n",
       "      <th>4</th>\n",
       "      <td>1876-03-04</td>\n",
       "      <td>Scotland</td>\n",
       "      <td>England</td>\n",
       "      <td>3</td>\n",
       "      <td>0</td>\n",
       "      <td>Friendly</td>\n",
       "      <td>Glasgow</td>\n",
       "      <td>Scotland</td>\n",
       "      <td>False</td>\n",
       "    </tr>\n",
       "  </tbody>\n",
       "</table>\n",
       "</div>"
      ],
      "text/plain": [
       "         date home_team away_team  home_score  away_score tournament     city  \\\n",
       "0  1872-11-30  Scotland   England           0           0   Friendly  Glasgow   \n",
       "1  1873-03-08   England  Scotland           4           2   Friendly   London   \n",
       "2  1874-03-07  Scotland   England           2           1   Friendly  Glasgow   \n",
       "3  1875-03-06   England  Scotland           2           2   Friendly   London   \n",
       "4  1876-03-04  Scotland   England           3           0   Friendly  Glasgow   \n",
       "\n",
       "    country  neutral  \n",
       "0  Scotland    False  \n",
       "1   England    False  \n",
       "2  Scotland    False  \n",
       "3   England    False  \n",
       "4  Scotland    False  "
      ]
     },
     "execution_count": 5,
     "metadata": {},
     "output_type": "execute_result"
    }
   ],
   "source": [
    "matches.head()"
   ]
  },
  {
   "cell_type": "markdown",
   "metadata": {},
   "source": [
    "Sprawdzenie typów zmiennych."
   ]
  },
  {
   "cell_type": "code",
   "execution_count": 6,
   "metadata": {},
   "outputs": [
    {
     "data": {
      "text/plain": [
       "date          object\n",
       "home_team     object\n",
       "away_team     object\n",
       "home_score     int64\n",
       "away_score     int64\n",
       "tournament    object\n",
       "city          object\n",
       "country       object\n",
       "neutral         bool\n",
       "dtype: object"
      ]
     },
     "execution_count": 6,
     "metadata": {},
     "output_type": "execute_result"
    }
   ],
   "source": [
    "matches.dtypes"
   ]
  },
  {
   "cell_type": "markdown",
   "metadata": {},
   "source": [
    "Zmiana typu zmiennej 'date'."
   ]
  },
  {
   "cell_type": "code",
   "execution_count": 7,
   "metadata": {},
   "outputs": [],
   "source": [
    "matches['date'] = pd.to_datetime(matches['date'], format = '%Y-%m-%d') "
   ]
  },
  {
   "cell_type": "code",
   "execution_count": 8,
   "metadata": {},
   "outputs": [
    {
     "data": {
      "text/plain": [
       "date          datetime64[ns]\n",
       "home_team             object\n",
       "away_team             object\n",
       "home_score             int64\n",
       "away_score             int64\n",
       "tournament            object\n",
       "city                  object\n",
       "country               object\n",
       "neutral                 bool\n",
       "dtype: object"
      ]
     },
     "execution_count": 8,
     "metadata": {},
     "output_type": "execute_result"
    }
   ],
   "source": [
    "matches.dtypes"
   ]
  },
  {
   "cell_type": "code",
   "execution_count": 9,
   "metadata": {},
   "outputs": [],
   "source": [
    "matches['neutral'].replace([True, False], [1, 0], inplace = True)"
   ]
  },
  {
   "cell_type": "markdown",
   "metadata": {},
   "source": [
    "Zmiana nazw zmiennych."
   ]
  },
  {
   "cell_type": "code",
   "execution_count": 10,
   "metadata": {},
   "outputs": [],
   "source": [
    "matches.columns = ['date', 'team_1', 'team_2', 'score_1', 'score_2', 'tournament', 'city', 'country', 'neutral']"
   ]
  },
  {
   "cell_type": "markdown",
   "metadata": {},
   "source": [
    "### 2.2. Wczytanie rankingu FIFA."
   ]
  },
  {
   "cell_type": "code",
   "execution_count": 11,
   "metadata": {},
   "outputs": [],
   "source": [
    "fifa_ranking = pd.read_csv('data//long/fifa_ranking.csv')"
   ]
  },
  {
   "cell_type": "markdown",
   "metadata": {},
   "source": [
    "Podgląd zbioru."
   ]
  },
  {
   "cell_type": "code",
   "execution_count": 12,
   "metadata": {},
   "outputs": [
    {
     "data": {
      "text/html": [
       "<div>\n",
       "<style scoped>\n",
       "    .dataframe tbody tr th:only-of-type {\n",
       "        vertical-align: middle;\n",
       "    }\n",
       "\n",
       "    .dataframe tbody tr th {\n",
       "        vertical-align: top;\n",
       "    }\n",
       "\n",
       "    .dataframe thead th {\n",
       "        text-align: right;\n",
       "    }\n",
       "</style>\n",
       "<table border=\"1\" class=\"dataframe\">\n",
       "  <thead>\n",
       "    <tr style=\"text-align: right;\">\n",
       "      <th></th>\n",
       "      <th>rank</th>\n",
       "      <th>country_full</th>\n",
       "      <th>country_abrv</th>\n",
       "      <th>total_points</th>\n",
       "      <th>previous_points</th>\n",
       "      <th>rank_change</th>\n",
       "      <th>cur_year_avg</th>\n",
       "      <th>cur_year_avg_weighted</th>\n",
       "      <th>last_year_avg</th>\n",
       "      <th>last_year_avg_weighted</th>\n",
       "      <th>two_year_ago_avg</th>\n",
       "      <th>two_year_ago_weighted</th>\n",
       "      <th>three_year_ago_avg</th>\n",
       "      <th>three_year_ago_weighted</th>\n",
       "      <th>confederation</th>\n",
       "      <th>rank_date</th>\n",
       "    </tr>\n",
       "  </thead>\n",
       "  <tbody>\n",
       "    <tr>\n",
       "      <th>0</th>\n",
       "      <td>1</td>\n",
       "      <td>Germany</td>\n",
       "      <td>GER</td>\n",
       "      <td>0.0</td>\n",
       "      <td>57</td>\n",
       "      <td>0</td>\n",
       "      <td>0.0</td>\n",
       "      <td>0.0</td>\n",
       "      <td>0.0</td>\n",
       "      <td>0.0</td>\n",
       "      <td>0.0</td>\n",
       "      <td>0.0</td>\n",
       "      <td>0.0</td>\n",
       "      <td>0.0</td>\n",
       "      <td>UEFA</td>\n",
       "      <td>1993-08-08</td>\n",
       "    </tr>\n",
       "    <tr>\n",
       "      <th>107</th>\n",
       "      <td>108</td>\n",
       "      <td>Lebanon</td>\n",
       "      <td>LIB</td>\n",
       "      <td>0.0</td>\n",
       "      <td>0</td>\n",
       "      <td>53</td>\n",
       "      <td>0.0</td>\n",
       "      <td>0.0</td>\n",
       "      <td>0.0</td>\n",
       "      <td>0.0</td>\n",
       "      <td>0.0</td>\n",
       "      <td>0.0</td>\n",
       "      <td>0.0</td>\n",
       "      <td>0.0</td>\n",
       "      <td>AFC</td>\n",
       "      <td>1993-08-08</td>\n",
       "    </tr>\n",
       "    <tr>\n",
       "      <th>108</th>\n",
       "      <td>109</td>\n",
       "      <td>South Africa</td>\n",
       "      <td>RSA</td>\n",
       "      <td>0.0</td>\n",
       "      <td>4</td>\n",
       "      <td>15</td>\n",
       "      <td>0.0</td>\n",
       "      <td>0.0</td>\n",
       "      <td>0.0</td>\n",
       "      <td>0.0</td>\n",
       "      <td>0.0</td>\n",
       "      <td>0.0</td>\n",
       "      <td>0.0</td>\n",
       "      <td>0.0</td>\n",
       "      <td>CAF</td>\n",
       "      <td>1993-08-08</td>\n",
       "    </tr>\n",
       "    <tr>\n",
       "      <th>109</th>\n",
       "      <td>110</td>\n",
       "      <td>Luxembourg</td>\n",
       "      <td>LUX</td>\n",
       "      <td>0.0</td>\n",
       "      <td>9</td>\n",
       "      <td>-7</td>\n",
       "      <td>0.0</td>\n",
       "      <td>0.0</td>\n",
       "      <td>0.0</td>\n",
       "      <td>0.0</td>\n",
       "      <td>0.0</td>\n",
       "      <td>0.0</td>\n",
       "      <td>0.0</td>\n",
       "      <td>0.0</td>\n",
       "      <td>UEFA</td>\n",
       "      <td>1993-08-08</td>\n",
       "    </tr>\n",
       "    <tr>\n",
       "      <th>110</th>\n",
       "      <td>111</td>\n",
       "      <td>Faroe Islands</td>\n",
       "      <td>FRO</td>\n",
       "      <td>0.0</td>\n",
       "      <td>11</td>\n",
       "      <td>-17</td>\n",
       "      <td>0.0</td>\n",
       "      <td>0.0</td>\n",
       "      <td>0.0</td>\n",
       "      <td>0.0</td>\n",
       "      <td>0.0</td>\n",
       "      <td>0.0</td>\n",
       "      <td>0.0</td>\n",
       "      <td>0.0</td>\n",
       "      <td>UEFA</td>\n",
       "      <td>1993-08-08</td>\n",
       "    </tr>\n",
       "  </tbody>\n",
       "</table>\n",
       "</div>"
      ],
      "text/plain": [
       "     rank   country_full country_abrv  total_points  previous_points  \\\n",
       "0       1        Germany          GER           0.0               57   \n",
       "107   108        Lebanon          LIB           0.0                0   \n",
       "108   109   South Africa          RSA           0.0                4   \n",
       "109   110     Luxembourg          LUX           0.0                9   \n",
       "110   111  Faroe Islands          FRO           0.0               11   \n",
       "\n",
       "     rank_change  cur_year_avg  cur_year_avg_weighted  last_year_avg  \\\n",
       "0              0           0.0                    0.0            0.0   \n",
       "107           53           0.0                    0.0            0.0   \n",
       "108           15           0.0                    0.0            0.0   \n",
       "109           -7           0.0                    0.0            0.0   \n",
       "110          -17           0.0                    0.0            0.0   \n",
       "\n",
       "     last_year_avg_weighted  two_year_ago_avg  two_year_ago_weighted  \\\n",
       "0                       0.0               0.0                    0.0   \n",
       "107                     0.0               0.0                    0.0   \n",
       "108                     0.0               0.0                    0.0   \n",
       "109                     0.0               0.0                    0.0   \n",
       "110                     0.0               0.0                    0.0   \n",
       "\n",
       "     three_year_ago_avg  three_year_ago_weighted confederation   rank_date  \n",
       "0                   0.0                      0.0          UEFA  1993-08-08  \n",
       "107                 0.0                      0.0           AFC  1993-08-08  \n",
       "108                 0.0                      0.0           CAF  1993-08-08  \n",
       "109                 0.0                      0.0          UEFA  1993-08-08  \n",
       "110                 0.0                      0.0          UEFA  1993-08-08  "
      ]
     },
     "execution_count": 12,
     "metadata": {},
     "output_type": "execute_result"
    }
   ],
   "source": [
    "fifa_ranking.sort_values('rank_date').head()"
   ]
  },
  {
   "cell_type": "markdown",
   "metadata": {},
   "source": [
    "Sprawdzenie typów zmiennych."
   ]
  },
  {
   "cell_type": "code",
   "execution_count": 13,
   "metadata": {
    "scrolled": true
   },
   "outputs": [
    {
     "data": {
      "text/plain": [
       "rank                         int64\n",
       "country_full                object\n",
       "country_abrv                object\n",
       "total_points               float64\n",
       "previous_points              int64\n",
       "rank_change                  int64\n",
       "cur_year_avg               float64\n",
       "cur_year_avg_weighted      float64\n",
       "last_year_avg              float64\n",
       "last_year_avg_weighted     float64\n",
       "two_year_ago_avg           float64\n",
       "two_year_ago_weighted      float64\n",
       "three_year_ago_avg         float64\n",
       "three_year_ago_weighted    float64\n",
       "confederation               object\n",
       "rank_date                   object\n",
       "dtype: object"
      ]
     },
     "execution_count": 13,
     "metadata": {},
     "output_type": "execute_result"
    }
   ],
   "source": [
    "fifa_ranking.dtypes"
   ]
  },
  {
   "cell_type": "markdown",
   "metadata": {},
   "source": [
    "Zmiana typu zmiennej 'date'."
   ]
  },
  {
   "cell_type": "code",
   "execution_count": 14,
   "metadata": {},
   "outputs": [],
   "source": [
    "fifa_ranking['rank_date'] = pd.to_datetime(fifa_ranking['rank_date'], format = '%Y-%m-%d')"
   ]
  },
  {
   "cell_type": "code",
   "execution_count": 15,
   "metadata": {},
   "outputs": [
    {
     "data": {
      "text/html": [
       "<div>\n",
       "<style scoped>\n",
       "    .dataframe tbody tr th:only-of-type {\n",
       "        vertical-align: middle;\n",
       "    }\n",
       "\n",
       "    .dataframe tbody tr th {\n",
       "        vertical-align: top;\n",
       "    }\n",
       "\n",
       "    .dataframe thead th {\n",
       "        text-align: right;\n",
       "    }\n",
       "</style>\n",
       "<table border=\"1\" class=\"dataframe\">\n",
       "  <thead>\n",
       "    <tr style=\"text-align: right;\">\n",
       "      <th></th>\n",
       "      <th>rank</th>\n",
       "      <th>country_full</th>\n",
       "      <th>country_abrv</th>\n",
       "      <th>total_points</th>\n",
       "      <th>previous_points</th>\n",
       "      <th>rank_change</th>\n",
       "      <th>cur_year_avg</th>\n",
       "      <th>cur_year_avg_weighted</th>\n",
       "      <th>last_year_avg</th>\n",
       "      <th>last_year_avg_weighted</th>\n",
       "      <th>two_year_ago_avg</th>\n",
       "      <th>two_year_ago_weighted</th>\n",
       "      <th>three_year_ago_avg</th>\n",
       "      <th>three_year_ago_weighted</th>\n",
       "      <th>confederation</th>\n",
       "      <th>rank_date</th>\n",
       "    </tr>\n",
       "  </thead>\n",
       "  <tbody>\n",
       "    <tr>\n",
       "      <th>0</th>\n",
       "      <td>1</td>\n",
       "      <td>Germany</td>\n",
       "      <td>GER</td>\n",
       "      <td>0.0</td>\n",
       "      <td>57</td>\n",
       "      <td>0</td>\n",
       "      <td>0.0</td>\n",
       "      <td>0.0</td>\n",
       "      <td>0.0</td>\n",
       "      <td>0.0</td>\n",
       "      <td>0.0</td>\n",
       "      <td>0.0</td>\n",
       "      <td>0.0</td>\n",
       "      <td>0.0</td>\n",
       "      <td>UEFA</td>\n",
       "      <td>1993-08-08</td>\n",
       "    </tr>\n",
       "    <tr>\n",
       "      <th>1</th>\n",
       "      <td>2</td>\n",
       "      <td>Italy</td>\n",
       "      <td>ITA</td>\n",
       "      <td>0.0</td>\n",
       "      <td>57</td>\n",
       "      <td>0</td>\n",
       "      <td>0.0</td>\n",
       "      <td>0.0</td>\n",
       "      <td>0.0</td>\n",
       "      <td>0.0</td>\n",
       "      <td>0.0</td>\n",
       "      <td>0.0</td>\n",
       "      <td>0.0</td>\n",
       "      <td>0.0</td>\n",
       "      <td>UEFA</td>\n",
       "      <td>1993-08-08</td>\n",
       "    </tr>\n",
       "    <tr>\n",
       "      <th>2</th>\n",
       "      <td>3</td>\n",
       "      <td>Switzerland</td>\n",
       "      <td>SUI</td>\n",
       "      <td>0.0</td>\n",
       "      <td>50</td>\n",
       "      <td>9</td>\n",
       "      <td>0.0</td>\n",
       "      <td>0.0</td>\n",
       "      <td>0.0</td>\n",
       "      <td>0.0</td>\n",
       "      <td>0.0</td>\n",
       "      <td>0.0</td>\n",
       "      <td>0.0</td>\n",
       "      <td>0.0</td>\n",
       "      <td>UEFA</td>\n",
       "      <td>1993-08-08</td>\n",
       "    </tr>\n",
       "    <tr>\n",
       "      <th>3</th>\n",
       "      <td>4</td>\n",
       "      <td>Sweden</td>\n",
       "      <td>SWE</td>\n",
       "      <td>0.0</td>\n",
       "      <td>55</td>\n",
       "      <td>0</td>\n",
       "      <td>0.0</td>\n",
       "      <td>0.0</td>\n",
       "      <td>0.0</td>\n",
       "      <td>0.0</td>\n",
       "      <td>0.0</td>\n",
       "      <td>0.0</td>\n",
       "      <td>0.0</td>\n",
       "      <td>0.0</td>\n",
       "      <td>UEFA</td>\n",
       "      <td>1993-08-08</td>\n",
       "    </tr>\n",
       "    <tr>\n",
       "      <th>4</th>\n",
       "      <td>5</td>\n",
       "      <td>Argentina</td>\n",
       "      <td>ARG</td>\n",
       "      <td>0.0</td>\n",
       "      <td>51</td>\n",
       "      <td>5</td>\n",
       "      <td>0.0</td>\n",
       "      <td>0.0</td>\n",
       "      <td>0.0</td>\n",
       "      <td>0.0</td>\n",
       "      <td>0.0</td>\n",
       "      <td>0.0</td>\n",
       "      <td>0.0</td>\n",
       "      <td>0.0</td>\n",
       "      <td>CONMEBOL</td>\n",
       "      <td>1993-08-08</td>\n",
       "    </tr>\n",
       "  </tbody>\n",
       "</table>\n",
       "</div>"
      ],
      "text/plain": [
       "   rank country_full country_abrv  total_points  previous_points  rank_change  \\\n",
       "0     1      Germany          GER           0.0               57            0   \n",
       "1     2        Italy          ITA           0.0               57            0   \n",
       "2     3  Switzerland          SUI           0.0               50            9   \n",
       "3     4       Sweden          SWE           0.0               55            0   \n",
       "4     5    Argentina          ARG           0.0               51            5   \n",
       "\n",
       "   cur_year_avg  cur_year_avg_weighted  last_year_avg  last_year_avg_weighted  \\\n",
       "0           0.0                    0.0            0.0                     0.0   \n",
       "1           0.0                    0.0            0.0                     0.0   \n",
       "2           0.0                    0.0            0.0                     0.0   \n",
       "3           0.0                    0.0            0.0                     0.0   \n",
       "4           0.0                    0.0            0.0                     0.0   \n",
       "\n",
       "   two_year_ago_avg  two_year_ago_weighted  three_year_ago_avg  \\\n",
       "0               0.0                    0.0                 0.0   \n",
       "1               0.0                    0.0                 0.0   \n",
       "2               0.0                    0.0                 0.0   \n",
       "3               0.0                    0.0                 0.0   \n",
       "4               0.0                    0.0                 0.0   \n",
       "\n",
       "   three_year_ago_weighted confederation  rank_date  \n",
       "0                      0.0          UEFA 1993-08-08  \n",
       "1                      0.0          UEFA 1993-08-08  \n",
       "2                      0.0          UEFA 1993-08-08  \n",
       "3                      0.0          UEFA 1993-08-08  \n",
       "4                      0.0      CONMEBOL 1993-08-08  "
      ]
     },
     "execution_count": 15,
     "metadata": {},
     "output_type": "execute_result"
    }
   ],
   "source": [
    "fifa_ranking.head()"
   ]
  },
  {
   "cell_type": "markdown",
   "metadata": {},
   "source": [
    "Zmiana nazw zmiennych."
   ]
  },
  {
   "cell_type": "code",
   "execution_count": 16,
   "metadata": {},
   "outputs": [],
   "source": [
    "fifa_ranking.columns = ['rank', 'country_full', 'country_abrv', 'total_points',\n",
    "       'previous_points', 'rank_change', 'cur_year_avg',\n",
    "       'cur_year_avg_weighted', 'last_year_avg', 'last_year_avg_weighted',\n",
    "       'two_year_ago_avg', 'two_year_ago_weighted', 'three_year_ago_avg',\n",
    "       'three_year_ago_weighted', 'confederation', 'date']"
   ]
  },
  {
   "cell_type": "markdown",
   "metadata": {},
   "source": [
    "## 3. Przygotowanie zbiorów wejściowych."
   ]
  },
  {
   "cell_type": "markdown",
   "metadata": {},
   "source": [
    "#### Zbudowanie zmiennej celu"
   ]
  },
  {
   "cell_type": "code",
   "execution_count": 17,
   "metadata": {},
   "outputs": [],
   "source": [
    "matches = matches.assign(y = 0)\n",
    "matches.loc[matches.score_1 > matches.score_2, 'y'] = 1\n",
    "matches.loc[matches.score_1 < matches.score_2, 'y'] = 2"
   ]
  },
  {
   "cell_type": "markdown",
   "metadata": {},
   "source": [
    "#### Usunięcie meczy zakończonych remisem"
   ]
  },
  {
   "cell_type": "markdown",
   "metadata": {},
   "source": [
    "Skupiam się na wyznaczeniu zwycięzcy, ponieważ w finale nie ma mowy o końcowym remisie."
   ]
  },
  {
   "cell_type": "code",
   "execution_count": 18,
   "metadata": {},
   "outputs": [
    {
     "name": "stdout",
     "output_type": "stream",
     "text": [
      "(39668, 10)\n",
      "(30517, 10)\n"
     ]
    }
   ],
   "source": [
    "print(matches.shape)\n",
    "matches = matches[matches.y != 0]\n",
    "print(matches.shape)"
   ]
  },
  {
   "cell_type": "markdown",
   "metadata": {},
   "source": [
    "#### Usunięcie meczy na nieneutralnym terenie"
   ]
  },
  {
   "cell_type": "code",
   "execution_count": 19,
   "metadata": {},
   "outputs": [
    {
     "data": {
      "text/plain": [
       "(7590, 10)"
      ]
     },
     "execution_count": 19,
     "metadata": {},
     "output_type": "execute_result"
    }
   ],
   "source": [
    "matches = matches[matches.neutral == 1]\n",
    "matches.shape"
   ]
  },
  {
   "cell_type": "code",
   "execution_count": 20,
   "metadata": {},
   "outputs": [],
   "source": [
    "matches.drop('neutral', axis = 1, inplace = True)"
   ]
  },
  {
   "cell_type": "markdown",
   "metadata": {},
   "source": [
    "#### Usunięcie starych spotkań."
   ]
  },
  {
   "cell_type": "code",
   "execution_count": 21,
   "metadata": {},
   "outputs": [
    {
     "data": {
      "text/plain": [
       "count                   57793\n",
       "unique                    286\n",
       "top       2016-12-22 00:00:00\n",
       "freq                      211\n",
       "first     1993-08-08 00:00:00\n",
       "last      2018-06-07 00:00:00\n",
       "Name: date, dtype: object"
      ]
     },
     "execution_count": 21,
     "metadata": {},
     "output_type": "execute_result"
    }
   ],
   "source": [
    "fifa_ranking.date.describe()"
   ]
  },
  {
   "cell_type": "markdown",
   "metadata": {},
   "source": [
    "Pierwszy ranking został opublikowany 8 sierpnia 1993. Usuwam więc wszystkie mecze, które odbyły się przed tym dniem."
   ]
  },
  {
   "cell_type": "code",
   "execution_count": 22,
   "metadata": {},
   "outputs": [
    {
     "data": {
      "text/plain": [
       "(7590, 9)"
      ]
     },
     "execution_count": 22,
     "metadata": {},
     "output_type": "execute_result"
    }
   ],
   "source": [
    "matches.shape"
   ]
  },
  {
   "cell_type": "code",
   "execution_count": 23,
   "metadata": {},
   "outputs": [
    {
     "data": {
      "text/plain": [
       "(4550, 9)"
      ]
     },
     "execution_count": 23,
     "metadata": {},
     "output_type": "execute_result"
    }
   ],
   "source": [
    "matches = matches[matches.date >= '1993-08-08']\n",
    "matches.shape"
   ]
  },
  {
   "cell_type": "markdown",
   "metadata": {},
   "source": [
    "Spotkania, które odbyły się 8 sierpnia 1993 roku zostawiam w zbiorze. Ranking, który został opublikowany w tym samym dniu w którym odbywa się spotkanie, z pewnością nie bierze pod uwagę wyniku tego spotkania :)"
   ]
  },
  {
   "cell_type": "markdown",
   "metadata": {},
   "source": [
    "#### Dodanie identyfikatora (indeksu) pozycji w rankingu FIFA."
   ]
  },
  {
   "cell_type": "markdown",
   "metadata": {},
   "source": [
    "Łączenie obu zbiorów bezpośrednio po nazwie państwa i dacie (rok i miesiąc) rozgrywania meczu/opublikowania rankingu nie jest najlepszym pomysłem, ponieważ:\n",
    "* Ranking FIFA nie jest publikowany co miesiąc. Po uwzględnieniu daty powstanie dużo pustych wartości.\n",
    "* Dojdzie do wycieku danych. Ranking opublikowany kilka dni po rozegraniu meczu (zwłaszcza przy meczach o wysoką stawkę) będzie sugerować wynik spotkania.\n",
    "\n",
    "Muszę zatem napisać funkcję, która do zbioru z meczami przypisze identyfikator rankingu FIFA. Nie chcę przypisywać bezpośrednio pozycji w rankingu, bo zbiór `fifa_ranking` zawiera znacznie więcej informacji."
   ]
  },
  {
   "cell_type": "code",
   "execution_count": 24,
   "metadata": {},
   "outputs": [],
   "source": [
    "def find_current_ranking_position(team_1, team_2, date):\n",
    "    _fifa_ranking = fifa_ranking[(fifa_ranking.date <= date)]\n",
    "    \n",
    "    _fifa_ranking_team_1 = _fifa_ranking[(_fifa_ranking.country_full == team_1)]\n",
    "    _fifa_ranking_team_2 = _fifa_ranking[(_fifa_ranking.country_full == team_2)]\n",
    "    \n",
    "    if(_fifa_ranking_team_1.empty):\n",
    "        _team_1_id = None\n",
    "    else:\n",
    "        _team_1_id = _fifa_ranking_team_1.sort_values('date', ascending = False).iloc[0:1].index[0]\n",
    "    \n",
    "    \n",
    "    if(_fifa_ranking_team_2.empty):\n",
    "        _team_2_id = None\n",
    "    else:\n",
    "        _team_2_id = _fifa_ranking_team_2.sort_values('date', ascending = False).iloc[0:1].index[0]\n",
    "        \n",
    "    return pd.Series([_team_1_id, _team_2_id])"
   ]
  },
  {
   "cell_type": "markdown",
   "metadata": {},
   "source": [
    "W rankingu FIFA Irlandia widnieje pod nazwą \"Republic of Ireland\". Zmieniam więc nazwę, by zachować spójność w obu zbiorach."
   ]
  },
  {
   "cell_type": "code",
   "execution_count": 25,
   "metadata": {},
   "outputs": [],
   "source": [
    "matches.team_1.replace(['Ireland'], ['Republic of Ireland'], inplace = True)"
   ]
  },
  {
   "cell_type": "markdown",
   "metadata": {},
   "source": [
    "Uruchamiam funkcję, która przypisze dla każdego zespołu id z rankingu FIFA."
   ]
  },
  {
   "cell_type": "code",
   "execution_count": 26,
   "metadata": {},
   "outputs": [],
   "source": [
    "matches[['t1_id', 't2_id']] = matches.apply(lambda row: find_current_ranking_position(row['team_1'], row['team_2'], row['date']), axis = 1)"
   ]
  },
  {
   "cell_type": "code",
   "execution_count": 27,
   "metadata": {},
   "outputs": [
    {
     "data": {
      "text/html": [
       "<div>\n",
       "<style scoped>\n",
       "    .dataframe tbody tr th:only-of-type {\n",
       "        vertical-align: middle;\n",
       "    }\n",
       "\n",
       "    .dataframe tbody tr th {\n",
       "        vertical-align: top;\n",
       "    }\n",
       "\n",
       "    .dataframe thead th {\n",
       "        text-align: right;\n",
       "    }\n",
       "</style>\n",
       "<table border=\"1\" class=\"dataframe\">\n",
       "  <thead>\n",
       "    <tr style=\"text-align: right;\">\n",
       "      <th></th>\n",
       "      <th>date</th>\n",
       "      <th>team_1</th>\n",
       "      <th>team_2</th>\n",
       "      <th>score_1</th>\n",
       "      <th>score_2</th>\n",
       "      <th>tournament</th>\n",
       "      <th>city</th>\n",
       "      <th>country</th>\n",
       "      <th>y</th>\n",
       "      <th>t1_id</th>\n",
       "      <th>t2_id</th>\n",
       "    </tr>\n",
       "  </thead>\n",
       "  <tbody>\n",
       "    <tr>\n",
       "      <th>17890</th>\n",
       "      <td>1993-09-22</td>\n",
       "      <td>Mexico</td>\n",
       "      <td>Cameroon</td>\n",
       "      <td>1</td>\n",
       "      <td>0</td>\n",
       "      <td>Friendly</td>\n",
       "      <td>Los Angeles</td>\n",
       "      <td>USA</td>\n",
       "      <td>1</td>\n",
       "      <td>13.0</td>\n",
       "      <td>23.0</td>\n",
       "    </tr>\n",
       "    <tr>\n",
       "      <th>17893</th>\n",
       "      <td>1993-09-22</td>\n",
       "      <td>San Marino</td>\n",
       "      <td>Netherlands</td>\n",
       "      <td>0</td>\n",
       "      <td>7</td>\n",
       "      <td>FIFA World Cup qualification</td>\n",
       "      <td>Bologna</td>\n",
       "      <td>Italy</td>\n",
       "      <td>2</td>\n",
       "      <td>118.0</td>\n",
       "      <td>15.0</td>\n",
       "    </tr>\n",
       "    <tr>\n",
       "      <th>17907</th>\n",
       "      <td>1993-10-06</td>\n",
       "      <td>Mexico</td>\n",
       "      <td>South Africa</td>\n",
       "      <td>4</td>\n",
       "      <td>0</td>\n",
       "      <td>Friendly</td>\n",
       "      <td>Los Angeles</td>\n",
       "      <td>USA</td>\n",
       "      <td>1</td>\n",
       "      <td>182.0</td>\n",
       "      <td>261.0</td>\n",
       "    </tr>\n",
       "    <tr>\n",
       "      <th>17927</th>\n",
       "      <td>1993-10-15</td>\n",
       "      <td>Korea DPR</td>\n",
       "      <td>Iraq</td>\n",
       "      <td>3</td>\n",
       "      <td>2</td>\n",
       "      <td>FIFA World Cup qualification</td>\n",
       "      <td>Doha</td>\n",
       "      <td>Qatar</td>\n",
       "      <td>1</td>\n",
       "      <td>230.0</td>\n",
       "      <td>225.0</td>\n",
       "    </tr>\n",
       "    <tr>\n",
       "      <th>17929</th>\n",
       "      <td>1993-10-16</td>\n",
       "      <td>Iran</td>\n",
       "      <td>Korea Republic</td>\n",
       "      <td>0</td>\n",
       "      <td>3</td>\n",
       "      <td>FIFA World Cup qualification</td>\n",
       "      <td>Doha</td>\n",
       "      <td>Qatar</td>\n",
       "      <td>2</td>\n",
       "      <td>NaN</td>\n",
       "      <td>202.0</td>\n",
       "    </tr>\n",
       "  </tbody>\n",
       "</table>\n",
       "</div>"
      ],
      "text/plain": [
       "            date      team_1          team_2  score_1  score_2  \\\n",
       "17890 1993-09-22      Mexico        Cameroon        1        0   \n",
       "17893 1993-09-22  San Marino     Netherlands        0        7   \n",
       "17907 1993-10-06      Mexico    South Africa        4        0   \n",
       "17927 1993-10-15   Korea DPR            Iraq        3        2   \n",
       "17929 1993-10-16        Iran  Korea Republic        0        3   \n",
       "\n",
       "                         tournament         city country  y  t1_id  t2_id  \n",
       "17890                      Friendly  Los Angeles     USA  1   13.0   23.0  \n",
       "17893  FIFA World Cup qualification      Bologna   Italy  2  118.0   15.0  \n",
       "17907                      Friendly  Los Angeles     USA  1  182.0  261.0  \n",
       "17927  FIFA World Cup qualification         Doha   Qatar  1  230.0  225.0  \n",
       "17929  FIFA World Cup qualification         Doha   Qatar  2    NaN  202.0  "
      ]
     },
     "execution_count": 27,
     "metadata": {},
     "output_type": "execute_result"
    }
   ],
   "source": [
    "matches.head()"
   ]
  },
  {
   "cell_type": "markdown",
   "metadata": {},
   "source": [
    "#### Połączenie obu zbiorów."
   ]
  },
  {
   "cell_type": "code",
   "execution_count": 28,
   "metadata": {},
   "outputs": [],
   "source": [
    "matches = matches.merge(fifa_ranking, how = 'inner', left_on = 't1_id', right_index = True, suffixes = ['', '_1'])\n",
    "matches = matches.merge(fifa_ranking, how = 'inner', left_on = 't2_id', right_index = True, suffixes = ['', '_2'])"
   ]
  },
  {
   "cell_type": "code",
   "execution_count": 29,
   "metadata": {},
   "outputs": [],
   "source": [
    "matches.columns = ['date', 'team_1', 'team_2', 'score_1', 'score_2', 'tournament', 'city',\n",
    "       'country', 'y', 't1_id', 't2_id', 'rank_1', 'country_full_1',\n",
    "       'country_abrv_1', 'total_points_1', 'previous_points_1', 'rank_change_1',\n",
    "       'cur_year_avg_1', 'cur_year_avg_weighted_1', 'last_year_avg_1',\n",
    "       'last_year_avg_weighted_1', 'two_year_ago_avg_1', 'two_year_ago_weighted_1',\n",
    "       'three_year_ago_avg_1', 'three_year_ago_weighted_1', 'confederation_1',\n",
    "       'date_1', 'rank_2', 'country_full_2', 'country_abrv_2',\n",
    "       'total_points_2', 'previous_points_2', 'rank_change_2',\n",
    "       'cur_year_avg_2', 'cur_year_avg_weighted_2', 'last_year_avg_2',\n",
    "       'last_year_avg_weighted_2', 'two_year_ago_avg_2',\n",
    "       'two_year_ago_weighted_2', 'three_year_ago_avg_2',\n",
    "       'three_year_ago_weighted_2', 'confederation_2', 'date_2']"
   ]
  },
  {
   "cell_type": "markdown",
   "metadata": {},
   "source": [
    "#### Usunięcie zbędnych zmiennych."
   ]
  },
  {
   "cell_type": "code",
   "execution_count": 30,
   "metadata": {},
   "outputs": [],
   "source": [
    "matches.drop(['team_1', 'team_2', 'score_1', 'score_2', 'city', 'country', 't1_id', 't2_id', 'country_full_1', 'country_abrv_1', 'date_1', 'country_full_2', 'country_abrv_2', 'date_2'], axis = 1, inplace = True)"
   ]
  },
  {
   "cell_type": "markdown",
   "metadata": {},
   "source": [
    "#### Sprawdzenie rozmiaru zbioru."
   ]
  },
  {
   "cell_type": "code",
   "execution_count": 31,
   "metadata": {},
   "outputs": [
    {
     "data": {
      "text/plain": [
       "(3352, 29)"
      ]
     },
     "execution_count": 31,
     "metadata": {},
     "output_type": "execute_result"
    }
   ],
   "source": [
    "matches.shape"
   ]
  },
  {
   "cell_type": "markdown",
   "metadata": {},
   "source": [
    "#### Dodanie nowych zmiennych."
   ]
  },
  {
   "cell_type": "markdown",
   "metadata": {},
   "source": [
    "Dodaję nowe zmienne. `time_delta` określa jak dawno odbył się mecz. Uzyję jej jako wag do modelu."
   ]
  },
  {
   "cell_type": "code",
   "execution_count": 32,
   "metadata": {},
   "outputs": [],
   "source": [
    "matches['time_delta'] = (matches['date'] - pd.to_datetime('2018-07-15', format = '%Y-%m-%d'))/np.timedelta64(1, 'M')\n",
    "matches['year'] = matches.date.dt.year\n",
    "matches['month'] = matches.date.dt.month\n",
    "matches['day_of_week'] = matches.date.dt.dayofweek\n",
    "matches['day_of_year'] = matches.date.dt.dayofyear\n",
    "matches['is_year_end'] = matches.date.dt.is_year_end\n",
    "matches['is_year_start'] = matches.date.dt.is_year_start\n",
    "matches['quarter'] = matches.date.dt.quarter\n",
    "matches['is_year_end'].replace([False, True], [0, 1], inplace = True)\n",
    "matches['is_year_start'].replace([False, True], [0, 1], inplace = True)"
   ]
  },
  {
   "cell_type": "code",
   "execution_count": 33,
   "metadata": {},
   "outputs": [],
   "source": [
    "matches.drop(['date'], axis = 1, inplace = True)"
   ]
  },
  {
   "cell_type": "markdown",
   "metadata": {},
   "source": [
    "#### Zmiana kodowania zmiennych."
   ]
  },
  {
   "cell_type": "code",
   "execution_count": 34,
   "metadata": {
    "scrolled": true
   },
   "outputs": [
    {
     "data": {
      "text/html": [
       "<div>\n",
       "<style scoped>\n",
       "    .dataframe tbody tr th:only-of-type {\n",
       "        vertical-align: middle;\n",
       "    }\n",
       "\n",
       "    .dataframe tbody tr th {\n",
       "        vertical-align: top;\n",
       "    }\n",
       "\n",
       "    .dataframe thead th {\n",
       "        text-align: right;\n",
       "    }\n",
       "</style>\n",
       "<table border=\"1\" class=\"dataframe\">\n",
       "  <thead>\n",
       "    <tr style=\"text-align: right;\">\n",
       "      <th></th>\n",
       "      <th>tournament</th>\n",
       "      <th>y</th>\n",
       "      <th>rank_1</th>\n",
       "      <th>total_points_1</th>\n",
       "      <th>previous_points_1</th>\n",
       "      <th>rank_change_1</th>\n",
       "      <th>cur_year_avg_1</th>\n",
       "      <th>cur_year_avg_weighted_1</th>\n",
       "      <th>last_year_avg_1</th>\n",
       "      <th>last_year_avg_weighted_1</th>\n",
       "      <th>two_year_ago_avg_1</th>\n",
       "      <th>two_year_ago_weighted_1</th>\n",
       "      <th>three_year_ago_avg_1</th>\n",
       "      <th>three_year_ago_weighted_1</th>\n",
       "      <th>confederation_1</th>\n",
       "      <th>rank_2</th>\n",
       "      <th>total_points_2</th>\n",
       "      <th>previous_points_2</th>\n",
       "      <th>rank_change_2</th>\n",
       "      <th>cur_year_avg_2</th>\n",
       "      <th>cur_year_avg_weighted_2</th>\n",
       "      <th>last_year_avg_2</th>\n",
       "      <th>last_year_avg_weighted_2</th>\n",
       "      <th>two_year_ago_avg_2</th>\n",
       "      <th>two_year_ago_weighted_2</th>\n",
       "      <th>three_year_ago_avg_2</th>\n",
       "      <th>three_year_ago_weighted_2</th>\n",
       "      <th>confederation_2</th>\n",
       "      <th>time_delta</th>\n",
       "      <th>year</th>\n",
       "      <th>month</th>\n",
       "      <th>day_of_week</th>\n",
       "      <th>day_of_year</th>\n",
       "      <th>is_year_end</th>\n",
       "      <th>is_year_start</th>\n",
       "      <th>quarter</th>\n",
       "    </tr>\n",
       "  </thead>\n",
       "  <tbody>\n",
       "    <tr>\n",
       "      <th>17890</th>\n",
       "      <td>Friendly</td>\n",
       "      <td>1</td>\n",
       "      <td>14</td>\n",
       "      <td>0.0</td>\n",
       "      <td>42</td>\n",
       "      <td>11</td>\n",
       "      <td>0.0</td>\n",
       "      <td>0.0</td>\n",
       "      <td>0.0</td>\n",
       "      <td>0.0</td>\n",
       "      <td>0.0</td>\n",
       "      <td>0.0</td>\n",
       "      <td>0.0</td>\n",
       "      <td>0.0</td>\n",
       "      <td>CONCACAF</td>\n",
       "      <td>24</td>\n",
       "      <td>0.0</td>\n",
       "      <td>43</td>\n",
       "      <td>-2</td>\n",
       "      <td>0.0</td>\n",
       "      <td>0.0</td>\n",
       "      <td>0.0</td>\n",
       "      <td>0.0</td>\n",
       "      <td>0.0</td>\n",
       "      <td>0.0</td>\n",
       "      <td>0.0</td>\n",
       "      <td>0.0</td>\n",
       "      <td>CAF</td>\n",
       "      <td>-297.730960</td>\n",
       "      <td>1993</td>\n",
       "      <td>9</td>\n",
       "      <td>2</td>\n",
       "      <td>265</td>\n",
       "      <td>0</td>\n",
       "      <td>0</td>\n",
       "      <td>3</td>\n",
       "    </tr>\n",
       "    <tr>\n",
       "      <th>17893</th>\n",
       "      <td>FIFA World Cup qualification</td>\n",
       "      <td>2</td>\n",
       "      <td>119</td>\n",
       "      <td>0.0</td>\n",
       "      <td>4</td>\n",
       "      <td>7</td>\n",
       "      <td>0.0</td>\n",
       "      <td>0.0</td>\n",
       "      <td>0.0</td>\n",
       "      <td>0.0</td>\n",
       "      <td>0.0</td>\n",
       "      <td>0.0</td>\n",
       "      <td>0.0</td>\n",
       "      <td>0.0</td>\n",
       "      <td>UEFA</td>\n",
       "      <td>16</td>\n",
       "      <td>0.0</td>\n",
       "      <td>53</td>\n",
       "      <td>-9</td>\n",
       "      <td>0.0</td>\n",
       "      <td>0.0</td>\n",
       "      <td>0.0</td>\n",
       "      <td>0.0</td>\n",
       "      <td>0.0</td>\n",
       "      <td>0.0</td>\n",
       "      <td>0.0</td>\n",
       "      <td>0.0</td>\n",
       "      <td>UEFA</td>\n",
       "      <td>-297.730960</td>\n",
       "      <td>1993</td>\n",
       "      <td>9</td>\n",
       "      <td>2</td>\n",
       "      <td>265</td>\n",
       "      <td>0</td>\n",
       "      <td>0</td>\n",
       "      <td>3</td>\n",
       "    </tr>\n",
       "    <tr>\n",
       "      <th>17907</th>\n",
       "      <td>Friendly</td>\n",
       "      <td>1</td>\n",
       "      <td>16</td>\n",
       "      <td>0.0</td>\n",
       "      <td>50</td>\n",
       "      <td>-2</td>\n",
       "      <td>0.0</td>\n",
       "      <td>0.0</td>\n",
       "      <td>0.0</td>\n",
       "      <td>0.0</td>\n",
       "      <td>0.0</td>\n",
       "      <td>0.0</td>\n",
       "      <td>0.0</td>\n",
       "      <td>0.0</td>\n",
       "      <td>CONCACAF</td>\n",
       "      <td>95</td>\n",
       "      <td>0.0</td>\n",
       "      <td>11</td>\n",
       "      <td>14</td>\n",
       "      <td>0.0</td>\n",
       "      <td>0.0</td>\n",
       "      <td>0.0</td>\n",
       "      <td>0.0</td>\n",
       "      <td>0.0</td>\n",
       "      <td>0.0</td>\n",
       "      <td>0.0</td>\n",
       "      <td>0.0</td>\n",
       "      <td>CAF</td>\n",
       "      <td>-297.270991</td>\n",
       "      <td>1993</td>\n",
       "      <td>10</td>\n",
       "      <td>2</td>\n",
       "      <td>279</td>\n",
       "      <td>0</td>\n",
       "      <td>0</td>\n",
       "      <td>4</td>\n",
       "    </tr>\n",
       "    <tr>\n",
       "      <th>17935</th>\n",
       "      <td>Friendly</td>\n",
       "      <td>1</td>\n",
       "      <td>16</td>\n",
       "      <td>0.0</td>\n",
       "      <td>50</td>\n",
       "      <td>-2</td>\n",
       "      <td>0.0</td>\n",
       "      <td>0.0</td>\n",
       "      <td>0.0</td>\n",
       "      <td>0.0</td>\n",
       "      <td>0.0</td>\n",
       "      <td>0.0</td>\n",
       "      <td>0.0</td>\n",
       "      <td>0.0</td>\n",
       "      <td>CONCACAF</td>\n",
       "      <td>132</td>\n",
       "      <td>0.0</td>\n",
       "      <td>4</td>\n",
       "      <td>-1</td>\n",
       "      <td>0.0</td>\n",
       "      <td>0.0</td>\n",
       "      <td>0.0</td>\n",
       "      <td>0.0</td>\n",
       "      <td>0.0</td>\n",
       "      <td>0.0</td>\n",
       "      <td>0.0</td>\n",
       "      <td>0.0</td>\n",
       "      <td>UEFA</td>\n",
       "      <td>-296.811023</td>\n",
       "      <td>1993</td>\n",
       "      <td>10</td>\n",
       "      <td>2</td>\n",
       "      <td>293</td>\n",
       "      <td>0</td>\n",
       "      <td>0</td>\n",
       "      <td>4</td>\n",
       "    </tr>\n",
       "    <tr>\n",
       "      <th>17927</th>\n",
       "      <td>FIFA World Cup qualification</td>\n",
       "      <td>1</td>\n",
       "      <td>64</td>\n",
       "      <td>0.0</td>\n",
       "      <td>30</td>\n",
       "      <td>-3</td>\n",
       "      <td>0.0</td>\n",
       "      <td>0.0</td>\n",
       "      <td>0.0</td>\n",
       "      <td>0.0</td>\n",
       "      <td>0.0</td>\n",
       "      <td>0.0</td>\n",
       "      <td>0.0</td>\n",
       "      <td>0.0</td>\n",
       "      <td>AFC</td>\n",
       "      <td>59</td>\n",
       "      <td>0.0</td>\n",
       "      <td>30</td>\n",
       "      <td>-2</td>\n",
       "      <td>0.0</td>\n",
       "      <td>0.0</td>\n",
       "      <td>0.0</td>\n",
       "      <td>0.0</td>\n",
       "      <td>0.0</td>\n",
       "      <td>0.0</td>\n",
       "      <td>0.0</td>\n",
       "      <td>0.0</td>\n",
       "      <td>AFC</td>\n",
       "      <td>-296.975297</td>\n",
       "      <td>1993</td>\n",
       "      <td>10</td>\n",
       "      <td>4</td>\n",
       "      <td>288</td>\n",
       "      <td>0</td>\n",
       "      <td>0</td>\n",
       "      <td>4</td>\n",
       "    </tr>\n",
       "  </tbody>\n",
       "</table>\n",
       "</div>"
      ],
      "text/plain": [
       "                         tournament  y  rank_1  total_points_1  \\\n",
       "17890                      Friendly  1      14             0.0   \n",
       "17893  FIFA World Cup qualification  2     119             0.0   \n",
       "17907                      Friendly  1      16             0.0   \n",
       "17935                      Friendly  1      16             0.0   \n",
       "17927  FIFA World Cup qualification  1      64             0.0   \n",
       "\n",
       "       previous_points_1  rank_change_1  cur_year_avg_1  \\\n",
       "17890                 42             11             0.0   \n",
       "17893                  4              7             0.0   \n",
       "17907                 50             -2             0.0   \n",
       "17935                 50             -2             0.0   \n",
       "17927                 30             -3             0.0   \n",
       "\n",
       "       cur_year_avg_weighted_1  last_year_avg_1  last_year_avg_weighted_1  \\\n",
       "17890                      0.0              0.0                       0.0   \n",
       "17893                      0.0              0.0                       0.0   \n",
       "17907                      0.0              0.0                       0.0   \n",
       "17935                      0.0              0.0                       0.0   \n",
       "17927                      0.0              0.0                       0.0   \n",
       "\n",
       "       two_year_ago_avg_1  two_year_ago_weighted_1  three_year_ago_avg_1  \\\n",
       "17890                 0.0                      0.0                   0.0   \n",
       "17893                 0.0                      0.0                   0.0   \n",
       "17907                 0.0                      0.0                   0.0   \n",
       "17935                 0.0                      0.0                   0.0   \n",
       "17927                 0.0                      0.0                   0.0   \n",
       "\n",
       "       three_year_ago_weighted_1 confederation_1  rank_2  total_points_2  \\\n",
       "17890                        0.0        CONCACAF      24             0.0   \n",
       "17893                        0.0            UEFA      16             0.0   \n",
       "17907                        0.0        CONCACAF      95             0.0   \n",
       "17935                        0.0        CONCACAF     132             0.0   \n",
       "17927                        0.0             AFC      59             0.0   \n",
       "\n",
       "       previous_points_2  rank_change_2  cur_year_avg_2  \\\n",
       "17890                 43             -2             0.0   \n",
       "17893                 53             -9             0.0   \n",
       "17907                 11             14             0.0   \n",
       "17935                  4             -1             0.0   \n",
       "17927                 30             -2             0.0   \n",
       "\n",
       "       cur_year_avg_weighted_2  last_year_avg_2  last_year_avg_weighted_2  \\\n",
       "17890                      0.0              0.0                       0.0   \n",
       "17893                      0.0              0.0                       0.0   \n",
       "17907                      0.0              0.0                       0.0   \n",
       "17935                      0.0              0.0                       0.0   \n",
       "17927                      0.0              0.0                       0.0   \n",
       "\n",
       "       two_year_ago_avg_2  two_year_ago_weighted_2  three_year_ago_avg_2  \\\n",
       "17890                 0.0                      0.0                   0.0   \n",
       "17893                 0.0                      0.0                   0.0   \n",
       "17907                 0.0                      0.0                   0.0   \n",
       "17935                 0.0                      0.0                   0.0   \n",
       "17927                 0.0                      0.0                   0.0   \n",
       "\n",
       "       three_year_ago_weighted_2 confederation_2  time_delta  year  month  \\\n",
       "17890                        0.0             CAF -297.730960  1993      9   \n",
       "17893                        0.0            UEFA -297.730960  1993      9   \n",
       "17907                        0.0             CAF -297.270991  1993     10   \n",
       "17935                        0.0            UEFA -296.811023  1993     10   \n",
       "17927                        0.0             AFC -296.975297  1993     10   \n",
       "\n",
       "       day_of_week  day_of_year  is_year_end  is_year_start  quarter  \n",
       "17890            2          265            0              0        3  \n",
       "17893            2          265            0              0        3  \n",
       "17907            2          279            0              0        4  \n",
       "17935            2          293            0              0        4  \n",
       "17927            4          288            0              0        4  "
      ]
     },
     "execution_count": 34,
     "metadata": {},
     "output_type": "execute_result"
    }
   ],
   "source": [
    "matches.head()"
   ]
  },
  {
   "cell_type": "code",
   "execution_count": 35,
   "metadata": {},
   "outputs": [],
   "source": [
    "label_encoder = LabelEncoder()\n",
    "label_encoder.fit(matches.tournament)\n",
    "matches.tournament = label_encoder.transform(matches.tournament)\n",
    "\n",
    "label_encoder.fit(matches.confederation_1)\n",
    "matches.confederation_1 = label_encoder.transform(matches.confederation_1)\n",
    "\n",
    "matches.confederation_2 = label_encoder.transform(matches.confederation_2)"
   ]
  },
  {
   "cell_type": "markdown",
   "metadata": {},
   "source": [
    "## 4. Przygotowanie danych do modelowania."
   ]
  },
  {
   "cell_type": "markdown",
   "metadata": {},
   "source": [
    "### 4.1. Usunięcie braków danych."
   ]
  },
  {
   "cell_type": "code",
   "execution_count": 36,
   "metadata": {
    "scrolled": true
   },
   "outputs": [
    {
     "data": {
      "text/plain": [
       "False"
      ]
     },
     "execution_count": 36,
     "metadata": {},
     "output_type": "execute_result"
    }
   ],
   "source": [
    "matches.isnull().any().any()"
   ]
  },
  {
   "cell_type": "markdown",
   "metadata": {},
   "source": [
    "### 4.2. Usunięcie odstających wartości."
   ]
  },
  {
   "cell_type": "markdown",
   "metadata": {},
   "source": [
    "Użyje XGB i GradientBoostingClassifier, które nie są wrażliwe na obserwacje odstające."
   ]
  },
  {
   "cell_type": "markdown",
   "metadata": {},
   "source": [
    "### 4.3. Podział zbioru."
   ]
  },
  {
   "cell_type": "code",
   "execution_count": 37,
   "metadata": {},
   "outputs": [
    {
     "name": "stdout",
     "output_type": "stream",
     "text": [
      "1    0.555191\n",
      "2    0.444809\n",
      "Name: y, dtype: float64\n"
     ]
    }
   ],
   "source": [
    "print(matches.y.value_counts(normalize = True))"
   ]
  },
  {
   "cell_type": "code",
   "execution_count": 38,
   "metadata": {},
   "outputs": [],
   "source": [
    "# oddzielam zmienną celu od zmiennych objaśniających\n",
    "y = matches.y.copy()\n",
    "x = matches.drop('y', axis = 1)\n",
    "\n",
    "# zamieniam wartości jakie przyjmuje zmienna celu\n",
    "y.replace([1,2], [0, 1], inplace = True)\n",
    "\n",
    "# dzielę zbiór na dwie części\n",
    "x_tr, x_te, y_tr, y_te = train_test_split(x, y, test_size = 0.2, stratify = y, random_state = 20180715)\n",
    "\n",
    "# oddzielam wagi, których użyję do uczenia modelu\n",
    "weights_tr = x_tr.time_delta\n",
    "weights_te = x_te.time_delta"
   ]
  },
  {
   "cell_type": "code",
   "execution_count": 39,
   "metadata": {},
   "outputs": [
    {
     "name": "stdout",
     "output_type": "stream",
     "text": [
      "0    0.555017\n",
      "1    0.444983\n",
      "Name: y, dtype: float64\n",
      "0    0.555887\n",
      "1    0.444113\n",
      "Name: y, dtype: float64\n"
     ]
    }
   ],
   "source": [
    "print(y_tr.value_counts(normalize = True))\n",
    "print(y_te.value_counts(normalize = True))"
   ]
  },
  {
   "cell_type": "code",
   "execution_count": 40,
   "metadata": {},
   "outputs": [],
   "source": [
    "weights_tr = (weights_tr.min()*-1) - weights_tr\n",
    "weights_te = (weights_te.min()*-1) - weights_te"
   ]
  },
  {
   "cell_type": "markdown",
   "metadata": {},
   "source": [
    "## 5. Modelowanie."
   ]
  },
  {
   "cell_type": "markdown",
   "metadata": {},
   "source": [
    "### 5.1. Model 1."
   ]
  },
  {
   "cell_type": "markdown",
   "metadata": {},
   "source": [
    "Opis modelu:\n",
    "* GradientBoostingClassifier.\n",
    "* Brak doboru parametrów.\n",
    "* Brak doboru zmiennych."
   ]
  },
  {
   "cell_type": "code",
   "execution_count": 42,
   "metadata": {},
   "outputs": [],
   "source": [
    "gbc_1 = GradientBoostingClassifier()"
   ]
  },
  {
   "cell_type": "code",
   "execution_count": 47,
   "metadata": {},
   "outputs": [
    {
     "name": "stdout",
     "output_type": "stream",
     "text": [
      "Średnie Accuracy: 0.697\n",
      "Stabilność: 4.875%\n"
     ]
    }
   ],
   "source": [
    "cv = cross_val_score(gbc_1, x_tr, y_tr, cv = 10, scoring = 'accuracy', n_jobs=-1)\n",
    "print('Średnie Accuracy: ' + str(cv.mean().round(3)))\n",
    "print('Stabilność: ' + str((cv.std()*100/cv.mean()).round(3)) + '%')"
   ]
  },
  {
   "cell_type": "code",
   "execution_count": 48,
   "metadata": {},
   "outputs": [
    {
     "name": "stdout",
     "output_type": "stream",
     "text": [
      "Accuracy modelu na zbiorze testowym bez uwzględnienia wag: 0.7139.\n"
     ]
    }
   ],
   "source": [
    "gbc_1.fit(x_tr, y_tr)\n",
    "print(\"Accuracy modelu na zbiorze testowym bez uwzględnienia wag: {}.\".format(gbc_1.score(x_te, y_te).round(4)))"
   ]
  },
  {
   "cell_type": "code",
   "execution_count": 49,
   "metadata": {},
   "outputs": [
    {
     "name": "stdout",
     "output_type": "stream",
     "text": [
      "Accuracy modelu na zbiorze testowym z uwzględnieniem wag: 0.716.\n"
     ]
    }
   ],
   "source": [
    "gbc_1.fit(x_tr, y_tr, sample_weight=weights_tr)\n",
    "print(\"Accuracy modelu na zbiorze testowym z uwzględnieniem wag: {}.\".format(gbc_1.score(x_te, y_te, sample_weight=weights_te).round(4)))"
   ]
  },
  {
   "cell_type": "code",
   "execution_count": 55,
   "metadata": {
    "collapsed": true
   },
   "outputs": [
    {
     "data": {
      "text/html": [
       "<div>\n",
       "<style scoped>\n",
       "    .dataframe tbody tr th:only-of-type {\n",
       "        vertical-align: middle;\n",
       "    }\n",
       "\n",
       "    .dataframe tbody tr th {\n",
       "        vertical-align: top;\n",
       "    }\n",
       "\n",
       "    .dataframe thead th {\n",
       "        text-align: right;\n",
       "    }\n",
       "</style>\n",
       "<table border=\"1\" class=\"dataframe\">\n",
       "  <thead>\n",
       "    <tr style=\"text-align: right;\">\n",
       "      <th></th>\n",
       "      <th>0</th>\n",
       "    </tr>\n",
       "  </thead>\n",
       "  <tbody>\n",
       "    <tr>\n",
       "      <th>quarter</th>\n",
       "      <td>0.000000</td>\n",
       "    </tr>\n",
       "    <tr>\n",
       "      <th>is_year_end</th>\n",
       "      <td>0.000000</td>\n",
       "    </tr>\n",
       "    <tr>\n",
       "      <th>is_year_start</th>\n",
       "      <td>0.000000</td>\n",
       "    </tr>\n",
       "    <tr>\n",
       "      <th>cur_year_avg_weighted_2</th>\n",
       "      <td>0.001212</td>\n",
       "    </tr>\n",
       "    <tr>\n",
       "      <th>month</th>\n",
       "      <td>0.002876</td>\n",
       "    </tr>\n",
       "    <tr>\n",
       "      <th>cur_year_avg_1</th>\n",
       "      <td>0.002897</td>\n",
       "    </tr>\n",
       "    <tr>\n",
       "      <th>year</th>\n",
       "      <td>0.003589</td>\n",
       "    </tr>\n",
       "    <tr>\n",
       "      <th>total_points_1</th>\n",
       "      <td>0.004630</td>\n",
       "    </tr>\n",
       "    <tr>\n",
       "      <th>last_year_avg_1</th>\n",
       "      <td>0.004661</td>\n",
       "    </tr>\n",
       "    <tr>\n",
       "      <th>cur_year_avg_weighted_1</th>\n",
       "      <td>0.007113</td>\n",
       "    </tr>\n",
       "    <tr>\n",
       "      <th>two_year_ago_avg_1</th>\n",
       "      <td>0.007377</td>\n",
       "    </tr>\n",
       "    <tr>\n",
       "      <th>last_year_avg_weighted_1</th>\n",
       "      <td>0.007699</td>\n",
       "    </tr>\n",
       "    <tr>\n",
       "      <th>two_year_ago_avg_2</th>\n",
       "      <td>0.007877</td>\n",
       "    </tr>\n",
       "    <tr>\n",
       "      <th>last_year_avg_weighted_2</th>\n",
       "      <td>0.008082</td>\n",
       "    </tr>\n",
       "    <tr>\n",
       "      <th>confederation_1</th>\n",
       "      <td>0.009212</td>\n",
       "    </tr>\n",
       "    <tr>\n",
       "      <th>three_year_ago_weighted_2</th>\n",
       "      <td>0.009472</td>\n",
       "    </tr>\n",
       "    <tr>\n",
       "      <th>last_year_avg_2</th>\n",
       "      <td>0.010377</td>\n",
       "    </tr>\n",
       "    <tr>\n",
       "      <th>two_year_ago_weighted_2</th>\n",
       "      <td>0.010734</td>\n",
       "    </tr>\n",
       "    <tr>\n",
       "      <th>three_year_ago_avg_1</th>\n",
       "      <td>0.010970</td>\n",
       "    </tr>\n",
       "    <tr>\n",
       "      <th>two_year_ago_weighted_1</th>\n",
       "      <td>0.011674</td>\n",
       "    </tr>\n",
       "    <tr>\n",
       "      <th>total_points_2</th>\n",
       "      <td>0.011908</td>\n",
       "    </tr>\n",
       "    <tr>\n",
       "      <th>cur_year_avg_2</th>\n",
       "      <td>0.013419</td>\n",
       "    </tr>\n",
       "    <tr>\n",
       "      <th>three_year_ago_avg_2</th>\n",
       "      <td>0.014822</td>\n",
       "    </tr>\n",
       "    <tr>\n",
       "      <th>three_year_ago_weighted_1</th>\n",
       "      <td>0.015998</td>\n",
       "    </tr>\n",
       "    <tr>\n",
       "      <th>day_of_week</th>\n",
       "      <td>0.019893</td>\n",
       "    </tr>\n",
       "    <tr>\n",
       "      <th>confederation_2</th>\n",
       "      <td>0.021383</td>\n",
       "    </tr>\n",
       "    <tr>\n",
       "      <th>tournament</th>\n",
       "      <td>0.028010</td>\n",
       "    </tr>\n",
       "    <tr>\n",
       "      <th>rank_change_1</th>\n",
       "      <td>0.042704</td>\n",
       "    </tr>\n",
       "    <tr>\n",
       "      <th>rank_change_2</th>\n",
       "      <td>0.049335</td>\n",
       "    </tr>\n",
       "    <tr>\n",
       "      <th>time_delta</th>\n",
       "      <td>0.053799</td>\n",
       "    </tr>\n",
       "    <tr>\n",
       "      <th>previous_points_1</th>\n",
       "      <td>0.073085</td>\n",
       "    </tr>\n",
       "    <tr>\n",
       "      <th>day_of_year</th>\n",
       "      <td>0.075347</td>\n",
       "    </tr>\n",
       "    <tr>\n",
       "      <th>previous_points_2</th>\n",
       "      <td>0.102518</td>\n",
       "    </tr>\n",
       "    <tr>\n",
       "      <th>rank_2</th>\n",
       "      <td>0.177959</td>\n",
       "    </tr>\n",
       "    <tr>\n",
       "      <th>rank_1</th>\n",
       "      <td>0.179370</td>\n",
       "    </tr>\n",
       "  </tbody>\n",
       "</table>\n",
       "</div>"
      ],
      "text/plain": [
       "                                  0\n",
       "quarter                    0.000000\n",
       "is_year_end                0.000000\n",
       "is_year_start              0.000000\n",
       "cur_year_avg_weighted_2    0.001212\n",
       "month                      0.002876\n",
       "cur_year_avg_1             0.002897\n",
       "year                       0.003589\n",
       "total_points_1             0.004630\n",
       "last_year_avg_1            0.004661\n",
       "cur_year_avg_weighted_1    0.007113\n",
       "two_year_ago_avg_1         0.007377\n",
       "last_year_avg_weighted_1   0.007699\n",
       "two_year_ago_avg_2         0.007877\n",
       "last_year_avg_weighted_2   0.008082\n",
       "confederation_1            0.009212\n",
       "three_year_ago_weighted_2  0.009472\n",
       "last_year_avg_2            0.010377\n",
       "two_year_ago_weighted_2    0.010734\n",
       "three_year_ago_avg_1       0.010970\n",
       "two_year_ago_weighted_1    0.011674\n",
       "total_points_2             0.011908\n",
       "cur_year_avg_2             0.013419\n",
       "three_year_ago_avg_2       0.014822\n",
       "three_year_ago_weighted_1  0.015998\n",
       "day_of_week                0.019893\n",
       "confederation_2            0.021383\n",
       "tournament                 0.028010\n",
       "rank_change_1              0.042704\n",
       "rank_change_2              0.049335\n",
       "time_delta                 0.053799\n",
       "previous_points_1          0.073085\n",
       "day_of_year                0.075347\n",
       "previous_points_2          0.102518\n",
       "rank_2                     0.177959\n",
       "rank_1                     0.179370"
      ]
     },
     "execution_count": 55,
     "metadata": {},
     "output_type": "execute_result"
    }
   ],
   "source": [
    "pd.DataFrame(gbc_1.feature_importances_, index = x_tr.columns).sort_values(0)"
   ]
  },
  {
   "cell_type": "markdown",
   "metadata": {},
   "source": [
    "### 5.2. Model 2."
   ]
  },
  {
   "cell_type": "markdown",
   "metadata": {},
   "source": [
    "Opis modelu:\n",
    "* XGBoost."
   ]
  },
  {
   "cell_type": "code",
   "execution_count": 50,
   "metadata": {},
   "outputs": [],
   "source": [
    "xgb_1 = xgboost.XGBClassifier()"
   ]
  },
  {
   "cell_type": "code",
   "execution_count": 51,
   "metadata": {
    "scrolled": true
   },
   "outputs": [
    {
     "name": "stdout",
     "output_type": "stream",
     "text": [
      "Średnie Accuracy: 0.693\n",
      "Stabilność: 4.941%\n"
     ]
    }
   ],
   "source": [
    "cv = cross_val_score(xgb_1, x_tr, y_tr, cv = 10, scoring = 'accuracy', n_jobs=-1)\n",
    "print('Średnie Accuracy: ' + str(cv.mean().round(3)))\n",
    "print('Stabilność: ' + str((cv.std()*100/cv.mean()).round(3)) + '%')"
   ]
  },
  {
   "cell_type": "code",
   "execution_count": 52,
   "metadata": {},
   "outputs": [
    {
     "name": "stdout",
     "output_type": "stream",
     "text": [
      "Accuracy modelu na zbiorze testowym bez uwzględnienia wag: 0.7139.\n"
     ]
    }
   ],
   "source": [
    "xgb_1.fit(x_tr, y_tr)\n",
    "print(\"Accuracy modelu na zbiorze testowym bez uwzględnienia wag: {}.\".format(xgb_1.score(x_te, y_te).round(4)))"
   ]
  },
  {
   "cell_type": "code",
   "execution_count": 53,
   "metadata": {},
   "outputs": [
    {
     "name": "stdout",
     "output_type": "stream",
     "text": [
      "Accuracy modelu na zbiorze testowym z uwzględnieniem wag: 0.7087.\n"
     ]
    }
   ],
   "source": [
    "xgb_1.fit(x_tr, y_tr, sample_weight=weights_tr)\n",
    "print(\"Accuracy modelu na zbiorze testowym z uwzględnieniem wag: {}.\".format(xgb_1.score(x_te, y_te, sample_weight=weights_te).round(4)))"
   ]
  },
  {
   "cell_type": "code",
   "execution_count": 54,
   "metadata": {
    "collapsed": true
   },
   "outputs": [
    {
     "data": {
      "text/html": [
       "<div>\n",
       "<style scoped>\n",
       "    .dataframe tbody tr th:only-of-type {\n",
       "        vertical-align: middle;\n",
       "    }\n",
       "\n",
       "    .dataframe tbody tr th {\n",
       "        vertical-align: top;\n",
       "    }\n",
       "\n",
       "    .dataframe thead th {\n",
       "        text-align: right;\n",
       "    }\n",
       "</style>\n",
       "<table border=\"1\" class=\"dataframe\">\n",
       "  <thead>\n",
       "    <tr style=\"text-align: right;\">\n",
       "      <th></th>\n",
       "      <th>0</th>\n",
       "    </tr>\n",
       "  </thead>\n",
       "  <tbody>\n",
       "    <tr>\n",
       "      <th>quarter</th>\n",
       "      <td>0.000000</td>\n",
       "    </tr>\n",
       "    <tr>\n",
       "      <th>is_year_end</th>\n",
       "      <td>0.000000</td>\n",
       "    </tr>\n",
       "    <tr>\n",
       "      <th>two_year_ago_weighted_2</th>\n",
       "      <td>0.000000</td>\n",
       "    </tr>\n",
       "    <tr>\n",
       "      <th>last_year_avg_weighted_2</th>\n",
       "      <td>0.000000</td>\n",
       "    </tr>\n",
       "    <tr>\n",
       "      <th>cur_year_avg_weighted_2</th>\n",
       "      <td>0.000000</td>\n",
       "    </tr>\n",
       "    <tr>\n",
       "      <th>cur_year_avg_weighted_1</th>\n",
       "      <td>0.000000</td>\n",
       "    </tr>\n",
       "    <tr>\n",
       "      <th>is_year_start</th>\n",
       "      <td>0.000000</td>\n",
       "    </tr>\n",
       "    <tr>\n",
       "      <th>last_year_avg_weighted_1</th>\n",
       "      <td>0.000000</td>\n",
       "    </tr>\n",
       "    <tr>\n",
       "      <th>year</th>\n",
       "      <td>0.000000</td>\n",
       "    </tr>\n",
       "    <tr>\n",
       "      <th>two_year_ago_weighted_1</th>\n",
       "      <td>0.000000</td>\n",
       "    </tr>\n",
       "    <tr>\n",
       "      <th>three_year_ago_weighted_1</th>\n",
       "      <td>0.000000</td>\n",
       "    </tr>\n",
       "    <tr>\n",
       "      <th>three_year_ago_weighted_2</th>\n",
       "      <td>0.000000</td>\n",
       "    </tr>\n",
       "    <tr>\n",
       "      <th>cur_year_avg_2</th>\n",
       "      <td>0.004310</td>\n",
       "    </tr>\n",
       "    <tr>\n",
       "      <th>month</th>\n",
       "      <td>0.004310</td>\n",
       "    </tr>\n",
       "    <tr>\n",
       "      <th>confederation_1</th>\n",
       "      <td>0.005747</td>\n",
       "    </tr>\n",
       "    <tr>\n",
       "      <th>last_year_avg_1</th>\n",
       "      <td>0.005747</td>\n",
       "    </tr>\n",
       "    <tr>\n",
       "      <th>cur_year_avg_1</th>\n",
       "      <td>0.008621</td>\n",
       "    </tr>\n",
       "    <tr>\n",
       "      <th>total_points_1</th>\n",
       "      <td>0.008621</td>\n",
       "    </tr>\n",
       "    <tr>\n",
       "      <th>two_year_ago_avg_1</th>\n",
       "      <td>0.011494</td>\n",
       "    </tr>\n",
       "    <tr>\n",
       "      <th>two_year_ago_avg_2</th>\n",
       "      <td>0.012931</td>\n",
       "    </tr>\n",
       "    <tr>\n",
       "      <th>last_year_avg_2</th>\n",
       "      <td>0.014368</td>\n",
       "    </tr>\n",
       "    <tr>\n",
       "      <th>three_year_ago_avg_2</th>\n",
       "      <td>0.021552</td>\n",
       "    </tr>\n",
       "    <tr>\n",
       "      <th>confederation_2</th>\n",
       "      <td>0.021552</td>\n",
       "    </tr>\n",
       "    <tr>\n",
       "      <th>total_points_2</th>\n",
       "      <td>0.022989</td>\n",
       "    </tr>\n",
       "    <tr>\n",
       "      <th>day_of_week</th>\n",
       "      <td>0.022989</td>\n",
       "    </tr>\n",
       "    <tr>\n",
       "      <th>three_year_ago_avg_1</th>\n",
       "      <td>0.031609</td>\n",
       "    </tr>\n",
       "    <tr>\n",
       "      <th>rank_change_1</th>\n",
       "      <td>0.035920</td>\n",
       "    </tr>\n",
       "    <tr>\n",
       "      <th>rank_change_2</th>\n",
       "      <td>0.037356</td>\n",
       "    </tr>\n",
       "    <tr>\n",
       "      <th>tournament</th>\n",
       "      <td>0.048851</td>\n",
       "    </tr>\n",
       "    <tr>\n",
       "      <th>time_delta</th>\n",
       "      <td>0.051724</td>\n",
       "    </tr>\n",
       "    <tr>\n",
       "      <th>day_of_year</th>\n",
       "      <td>0.073276</td>\n",
       "    </tr>\n",
       "    <tr>\n",
       "      <th>previous_points_1</th>\n",
       "      <td>0.076149</td>\n",
       "    </tr>\n",
       "    <tr>\n",
       "      <th>previous_points_2</th>\n",
       "      <td>0.113506</td>\n",
       "    </tr>\n",
       "    <tr>\n",
       "      <th>rank_2</th>\n",
       "      <td>0.165230</td>\n",
       "    </tr>\n",
       "    <tr>\n",
       "      <th>rank_1</th>\n",
       "      <td>0.201149</td>\n",
       "    </tr>\n",
       "  </tbody>\n",
       "</table>\n",
       "</div>"
      ],
      "text/plain": [
       "                                  0\n",
       "quarter                    0.000000\n",
       "is_year_end                0.000000\n",
       "two_year_ago_weighted_2    0.000000\n",
       "last_year_avg_weighted_2   0.000000\n",
       "cur_year_avg_weighted_2    0.000000\n",
       "cur_year_avg_weighted_1    0.000000\n",
       "is_year_start              0.000000\n",
       "last_year_avg_weighted_1   0.000000\n",
       "year                       0.000000\n",
       "two_year_ago_weighted_1    0.000000\n",
       "three_year_ago_weighted_1  0.000000\n",
       "three_year_ago_weighted_2  0.000000\n",
       "cur_year_avg_2             0.004310\n",
       "month                      0.004310\n",
       "confederation_1            0.005747\n",
       "last_year_avg_1            0.005747\n",
       "cur_year_avg_1             0.008621\n",
       "total_points_1             0.008621\n",
       "two_year_ago_avg_1         0.011494\n",
       "two_year_ago_avg_2         0.012931\n",
       "last_year_avg_2            0.014368\n",
       "three_year_ago_avg_2       0.021552\n",
       "confederation_2            0.021552\n",
       "total_points_2             0.022989\n",
       "day_of_week                0.022989\n",
       "three_year_ago_avg_1       0.031609\n",
       "rank_change_1              0.035920\n",
       "rank_change_2              0.037356\n",
       "tournament                 0.048851\n",
       "time_delta                 0.051724\n",
       "day_of_year                0.073276\n",
       "previous_points_1          0.076149\n",
       "previous_points_2          0.113506\n",
       "rank_2                     0.165230\n",
       "rank_1                     0.201149"
      ]
     },
     "execution_count": 54,
     "metadata": {},
     "output_type": "execute_result"
    }
   ],
   "source": [
    "pd.DataFrame(xgb_1.feature_importances_, index = x_tr.columns).sort_values(0)"
   ]
  },
  {
   "cell_type": "markdown",
   "metadata": {},
   "source": [
    "### 5.3. Model 3."
   ]
  },
  {
   "cell_type": "markdown",
   "metadata": {},
   "source": [
    "##### Poszukiwania optymalnego zestawu parametrów - gbc_1"
   ]
  },
  {
   "cell_type": "code",
   "execution_count": 84,
   "metadata": {
    "collapsed": true
   },
   "outputs": [],
   "source": [
    "params_rs = {'loss' : ('deviance', 'exponential'),\n",
    "             'n_estimators' : randint(50,200),\n",
    "             'max_depth' : randint(5, 50),\n",
    "             'criterion' : ('friedman_mse', 'mse', 'mae'),\n",
    "             'min_samples_split' : randint(2, 50),\n",
    "             'min_samples_leaf' : randint(1, 50),\n",
    "             'max_features' : ('auto', 'sqrt', 'log2'),\n",
    "             'max_leaf_nodes' :  randint(1, 50)}"
   ]
  },
  {
   "cell_type": "code",
   "execution_count": null,
   "metadata": {},
   "outputs": [],
   "source": [
    "rs = RandomizedSearchCV(gbc_1, param_distributions=params_rs, n_iter = 20, n_jobs = -1, cv=5)\n",
    "rs.fit(x_tr, y_tr)"
   ]
  },
  {
   "cell_type": "code",
   "execution_count": 71,
   "metadata": {
    "scrolled": true
   },
   "outputs": [
    {
     "data": {
      "text/plain": [
       "{'criterion': 'friedman_mse',\n",
       " 'loss': 'deviance',\n",
       " 'max_depth': 27,\n",
       " 'max_features': 'log2',\n",
       " 'max_leaf_nodes': 11,\n",
       " 'min_samples_leaf': 36,\n",
       " 'min_samples_split': 7,\n",
       " 'n_estimators': 72}"
      ]
     },
     "execution_count": 71,
     "metadata": {},
     "output_type": "execute_result"
    }
   ],
   "source": [
    "rs.best_params_"
   ]
  },
  {
   "cell_type": "code",
   "execution_count": 56,
   "metadata": {},
   "outputs": [],
   "source": [
    "gbc_params = {'criterion': 'friedman_mse',\n",
    " 'loss': 'deviance',\n",
    " 'max_depth': 27,\n",
    " 'max_features': 'log2',\n",
    " 'max_leaf_nodes': 11,\n",
    " 'min_samples_leaf': 36,\n",
    " 'min_samples_split': 7,\n",
    " 'n_estimators': 72}"
   ]
  },
  {
   "cell_type": "code",
   "execution_count": 57,
   "metadata": {},
   "outputs": [],
   "source": [
    "gbc_2 = GradientBoostingClassifier(**gbc_params)"
   ]
  },
  {
   "cell_type": "code",
   "execution_count": 58,
   "metadata": {},
   "outputs": [
    {
     "name": "stdout",
     "output_type": "stream",
     "text": [
      "Średnie Accuracy: 0.702\n",
      "Stabilność: 5.303%\n"
     ]
    }
   ],
   "source": [
    "cv = cross_val_score(gbc_2, x_tr, y_tr, cv = 10, scoring = 'accuracy')\n",
    "print('Średnie Accuracy: ' + str(cv.mean().round(3)))\n",
    "print('Stabilność: ' + str((cv.std()*100/cv.mean()).round(3)) + '%')"
   ]
  },
  {
   "cell_type": "code",
   "execution_count": 59,
   "metadata": {},
   "outputs": [
    {
     "name": "stdout",
     "output_type": "stream",
     "text": [
      "Accuracy modelu na zbiorze testowym bez uwzględnienia wag: 0.7049.\n"
     ]
    }
   ],
   "source": [
    "gbc_2.fit(x_tr, y_tr)\n",
    "print(\"Accuracy modelu na zbiorze testowym bez uwzględnienia wag: {}.\".format(gbc_2.score(x_te, y_te).round(4)))"
   ]
  },
  {
   "cell_type": "code",
   "execution_count": 60,
   "metadata": {},
   "outputs": [
    {
     "name": "stdout",
     "output_type": "stream",
     "text": [
      "Accuracy modelu na zbiorze testowym z uwzględnieniem wag: 0.7121.\n"
     ]
    }
   ],
   "source": [
    "gbc_2.fit(x_tr, y_tr, sample_weight=weights_tr)\n",
    "print(\"Accuracy modelu na zbiorze testowym z uwzględnieniem wag: {}.\".format(gbc_2.score(x_te, y_te, sample_weight=weights_te).round(4)))"
   ]
  },
  {
   "cell_type": "markdown",
   "metadata": {},
   "source": [
    "### 5.4. Model 4."
   ]
  },
  {
   "cell_type": "markdown",
   "metadata": {},
   "source": [
    "##### Poszukiwania optymalnego zestawu parametrów - xgb"
   ]
  },
  {
   "cell_type": "code",
   "execution_count": 61,
   "metadata": {},
   "outputs": [],
   "source": [
    "params_rs = {'max_depth':randint(15, 50),\n",
    "             'n_estimators':randint(100,300),\n",
    "             'booster' : ('gbtree', 'gblinear', 'dart'),\n",
    "             'min_child_weight' : randint(1, 30),\n",
    "             'max_delta_step' : randint(1, 20)}"
   ]
  },
  {
   "cell_type": "code",
   "execution_count": 80,
   "metadata": {},
   "outputs": [
    {
     "data": {
      "text/plain": [
       "RandomizedSearchCV(cv=5, error_score='raise',\n",
       "          estimator=XGBClassifier(base_score=0.5, booster='gbtree', colsample_bylevel=1,\n",
       "       colsample_bytree=1, gamma=0, learning_rate=0.1, max_delta_step=0,\n",
       "       max_depth=3, min_child_weight=1, missing=None, n_estimators=100,\n",
       "       n_jobs=1, nthread=None, objective='binary:logistic', random_state=0,\n",
       "       reg_alpha=0, reg_lambda=1, scale_pos_weight=1, seed=None,\n",
       "       silent=True, subsample=1),\n",
       "          fit_params=None, iid=True, n_iter=20, n_jobs=-1,\n",
       "          param_distributions={'max_depth': <scipy.stats._distn_infrastructure.rv_frozen object at 0x7fb3942c9748>, 'n_estimators': <scipy.stats._distn_infrastructure.rv_frozen object at 0x7fb3942c96a0>, 'booster': ('gbtree', 'gblinear', 'dart'), 'min_child_weight': <scipy.stats._distn_infrastructure.rv_frozen object at 0x7fb3942c9da0>, 'max_delta_step': <scipy.stats._distn_infrastructure.rv_frozen object at 0x7fb3942c9be0>},\n",
       "          pre_dispatch='2*n_jobs', random_state=None, refit=True,\n",
       "          return_train_score='warn', scoring=None, verbose=0)"
      ]
     },
     "execution_count": 80,
     "metadata": {},
     "output_type": "execute_result"
    }
   ],
   "source": [
    "rs = RandomizedSearchCV(xgb_1, param_distributions=params_rs, n_iter = 20, n_jobs = -1, cv=5)\n",
    "rs.fit(x_tr, y_tr)"
   ]
  },
  {
   "cell_type": "code",
   "execution_count": 62,
   "metadata": {},
   "outputs": [],
   "source": [
    "xgb_params = {'booster': 'gblinear',\n",
    " 'max_delta_step': 9,\n",
    " 'max_depth': 46,\n",
    " 'min_child_weight': 27,\n",
    " 'n_estimators': 106}"
   ]
  },
  {
   "cell_type": "code",
   "execution_count": 63,
   "metadata": {},
   "outputs": [],
   "source": [
    "xgb_2 = xgboost.XGBClassifier(**xgb_params)"
   ]
  },
  {
   "cell_type": "code",
   "execution_count": 64,
   "metadata": {},
   "outputs": [
    {
     "name": "stdout",
     "output_type": "stream",
     "text": [
      "Średnie Accuracy: 0.707\n",
      "Stabilność: 4.92%\n"
     ]
    }
   ],
   "source": [
    "cv = cross_val_score(xgb_2, x_tr, y_tr, cv = 10, scoring = 'accuracy')\n",
    "print('Średnie Accuracy: ' + str(cv.mean().round(3)))\n",
    "print('Stabilność: ' + str((cv.std()*100/cv.mean()).round(3)) + '%')"
   ]
  },
  {
   "cell_type": "code",
   "execution_count": 65,
   "metadata": {},
   "outputs": [
    {
     "name": "stdout",
     "output_type": "stream",
     "text": [
      "Accuracy modelu na zbiorze testowym bez uwzględnienia wag: 0.7049.\n"
     ]
    }
   ],
   "source": [
    "xgb_2.fit(x_tr, y_tr)\n",
    "print(\"Accuracy modelu na zbiorze testowym bez uwzględnienia wag: {}.\".format(xgb_2.score(x_te, y_te).round(4)))"
   ]
  },
  {
   "cell_type": "code",
   "execution_count": 66,
   "metadata": {},
   "outputs": [
    {
     "name": "stdout",
     "output_type": "stream",
     "text": [
      "Accuracy modelu na zbiorze testowym z uwzględnieniem wag: 0.7084.\n"
     ]
    }
   ],
   "source": [
    "xgb_2.fit(x_tr, y_tr, sample_weight=weights_tr)\n",
    "print(\"Accuracy modelu na zbiorze testowym z uwzględnieniem wag: {}.\".format(xgb_2.score(x_te, y_te, sample_weight=weights_te).round(4)))"
   ]
  },
  {
   "cell_type": "markdown",
   "metadata": {},
   "source": [
    "## 6. Predykcja zwycięzcy MŚ."
   ]
  },
  {
   "cell_type": "markdown",
   "metadata": {},
   "source": [
    "##### Przygotowanie danych."
   ]
  },
  {
   "cell_type": "code",
   "execution_count": 67,
   "metadata": {},
   "outputs": [],
   "source": [
    "final_match = [21, 20, 945.18, 975,-2, 397.75, 397.75, 672.78, 336.39, 335.96, 100.79, 551.26, 110.25, 5, 7, 1198.13, 1166, 0, 520.12, 520.12, 856.75, 428.38, 393.65, 118.09, 657.68, 131.54, 5, 0, 2018, 7, 6, 196, 0, 0, 3]"
   ]
  },
  {
   "cell_type": "code",
   "execution_count": 68,
   "metadata": {},
   "outputs": [],
   "source": [
    "final_match = pd.DataFrame(final_match, index = x_tr.columns)"
   ]
  },
  {
   "cell_type": "code",
   "execution_count": 69,
   "metadata": {},
   "outputs": [
    {
     "data": {
      "text/html": [
       "<div>\n",
       "<style scoped>\n",
       "    .dataframe tbody tr th:only-of-type {\n",
       "        vertical-align: middle;\n",
       "    }\n",
       "\n",
       "    .dataframe tbody tr th {\n",
       "        vertical-align: top;\n",
       "    }\n",
       "\n",
       "    .dataframe thead th {\n",
       "        text-align: right;\n",
       "    }\n",
       "</style>\n",
       "<table border=\"1\" class=\"dataframe\">\n",
       "  <thead>\n",
       "    <tr style=\"text-align: right;\">\n",
       "      <th></th>\n",
       "      <th>tournament</th>\n",
       "      <th>rank_1</th>\n",
       "      <th>total_points_1</th>\n",
       "      <th>previous_points_1</th>\n",
       "      <th>rank_change_1</th>\n",
       "      <th>cur_year_avg_1</th>\n",
       "      <th>cur_year_avg_weighted_1</th>\n",
       "      <th>last_year_avg_1</th>\n",
       "      <th>last_year_avg_weighted_1</th>\n",
       "      <th>two_year_ago_avg_1</th>\n",
       "      <th>two_year_ago_weighted_1</th>\n",
       "      <th>three_year_ago_avg_1</th>\n",
       "      <th>three_year_ago_weighted_1</th>\n",
       "      <th>confederation_1</th>\n",
       "      <th>rank_2</th>\n",
       "      <th>total_points_2</th>\n",
       "      <th>previous_points_2</th>\n",
       "      <th>rank_change_2</th>\n",
       "      <th>cur_year_avg_2</th>\n",
       "      <th>cur_year_avg_weighted_2</th>\n",
       "      <th>last_year_avg_2</th>\n",
       "      <th>last_year_avg_weighted_2</th>\n",
       "      <th>two_year_ago_avg_2</th>\n",
       "      <th>two_year_ago_weighted_2</th>\n",
       "      <th>three_year_ago_avg_2</th>\n",
       "      <th>three_year_ago_weighted_2</th>\n",
       "      <th>confederation_2</th>\n",
       "      <th>time_delta</th>\n",
       "      <th>year</th>\n",
       "      <th>month</th>\n",
       "      <th>day_of_week</th>\n",
       "      <th>day_of_year</th>\n",
       "      <th>is_year_end</th>\n",
       "      <th>is_year_start</th>\n",
       "      <th>quarter</th>\n",
       "    </tr>\n",
       "  </thead>\n",
       "  <tbody>\n",
       "    <tr>\n",
       "      <th>0</th>\n",
       "      <td>21.0</td>\n",
       "      <td>20.0</td>\n",
       "      <td>945.18</td>\n",
       "      <td>975.0</td>\n",
       "      <td>-2.0</td>\n",
       "      <td>397.75</td>\n",
       "      <td>397.75</td>\n",
       "      <td>672.78</td>\n",
       "      <td>336.39</td>\n",
       "      <td>335.96</td>\n",
       "      <td>100.79</td>\n",
       "      <td>551.26</td>\n",
       "      <td>110.25</td>\n",
       "      <td>5.0</td>\n",
       "      <td>7.0</td>\n",
       "      <td>1198.13</td>\n",
       "      <td>1166.0</td>\n",
       "      <td>0.0</td>\n",
       "      <td>520.12</td>\n",
       "      <td>520.12</td>\n",
       "      <td>856.75</td>\n",
       "      <td>428.38</td>\n",
       "      <td>393.65</td>\n",
       "      <td>118.09</td>\n",
       "      <td>657.68</td>\n",
       "      <td>131.54</td>\n",
       "      <td>5.0</td>\n",
       "      <td>0.0</td>\n",
       "      <td>2018.0</td>\n",
       "      <td>7.0</td>\n",
       "      <td>6.0</td>\n",
       "      <td>196.0</td>\n",
       "      <td>0.0</td>\n",
       "      <td>0.0</td>\n",
       "      <td>3.0</td>\n",
       "    </tr>\n",
       "  </tbody>\n",
       "</table>\n",
       "</div>"
      ],
      "text/plain": [
       "   tournament  rank_1  total_points_1  previous_points_1  rank_change_1  \\\n",
       "0        21.0    20.0          945.18              975.0           -2.0   \n",
       "\n",
       "   cur_year_avg_1  cur_year_avg_weighted_1  last_year_avg_1  \\\n",
       "0          397.75                   397.75           672.78   \n",
       "\n",
       "   last_year_avg_weighted_1  two_year_ago_avg_1  two_year_ago_weighted_1  \\\n",
       "0                    336.39              335.96                   100.79   \n",
       "\n",
       "   three_year_ago_avg_1  three_year_ago_weighted_1  confederation_1  rank_2  \\\n",
       "0                551.26                     110.25              5.0     7.0   \n",
       "\n",
       "   total_points_2  previous_points_2  rank_change_2  cur_year_avg_2  \\\n",
       "0         1198.13             1166.0            0.0          520.12   \n",
       "\n",
       "   cur_year_avg_weighted_2  last_year_avg_2  last_year_avg_weighted_2  \\\n",
       "0                   520.12           856.75                    428.38   \n",
       "\n",
       "   two_year_ago_avg_2  two_year_ago_weighted_2  three_year_ago_avg_2  \\\n",
       "0              393.65                   118.09                657.68   \n",
       "\n",
       "   three_year_ago_weighted_2  confederation_2  time_delta    year  month  \\\n",
       "0                     131.54              5.0         0.0  2018.0    7.0   \n",
       "\n",
       "   day_of_week  day_of_year  is_year_end  is_year_start  quarter  \n",
       "0          6.0        196.0          0.0            0.0      3.0  "
      ]
     },
     "execution_count": 69,
     "metadata": {},
     "output_type": "execute_result"
    }
   ],
   "source": [
    "final_match.transpose()"
   ]
  },
  {
   "cell_type": "code",
   "execution_count": 70,
   "metadata": {},
   "outputs": [
    {
     "data": {
      "text/plain": [
       "array([[0.21760278, 0.78239722]])"
      ]
     },
     "execution_count": 70,
     "metadata": {},
     "output_type": "execute_result"
    }
   ],
   "source": [
    "gbc_2.predict_proba(final_match.transpose())"
   ]
  },
  {
   "cell_type": "code",
   "execution_count": 72,
   "metadata": {},
   "outputs": [
    {
     "data": {
      "text/plain": [
       "array([[0.23463535, 0.76536465]], dtype=float32)"
      ]
     },
     "execution_count": 72,
     "metadata": {},
     "output_type": "execute_result"
    }
   ],
   "source": [
    "xgb_2.predict_proba(final_match.transpose())"
   ]
  },
  {
   "cell_type": "markdown",
   "metadata": {},
   "source": [
    "Francja (78%) pokona Chorwację (22%) w finale mistrzostw świata w piłce nożnej :)"
   ]
  }
 ],
 "metadata": {
  "kernelspec": {
   "display_name": "Python 3",
   "language": "python",
   "name": "python3"
  },
  "language_info": {
   "codemirror_mode": {
    "name": "ipython",
    "version": 3
   },
   "file_extension": ".py",
   "mimetype": "text/x-python",
   "name": "python",
   "nbconvert_exporter": "python",
   "pygments_lexer": "ipython3",
   "version": "3.6.4"
  }
 },
 "nbformat": 4,
 "nbformat_minor": 2
}
